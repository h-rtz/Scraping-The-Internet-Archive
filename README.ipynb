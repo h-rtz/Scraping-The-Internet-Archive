{
 "cells": [
  {
   "cell_type": "markdown",
   "metadata": {},
   "source": [
    "# Scraping-The-Internet-Archive"
   ]
  },
  {
   "cell_type": "markdown",
   "metadata": {},
   "source": [
    "--- A python programme analyzing media trends with data scraped from the Internet Archive / Wayback Machine ---"
   ]
  },
  {
   "cell_type": "markdown",
   "metadata": {},
   "source": [
    "## Einleitung"
   ]
  },
  {
   "cell_type": "markdown",
   "metadata": {},
   "source": [
    "Am 25.2.2020 wurde die erste Coronainfektion in der Schweiz nachgewiesen. Seitdem hat das Virus nicht nur die Infizierten im Griff, sondern sich tief in unser aller Leben gefressen. Das lässt sich auch daran ablesen, dass auf der Startseite der NZZ nur wenige Themen gegen den (facettenreichen) Corona-Reigen eine Chance hatten: Lockdown und Schliessungen, die Maskenpflicht und deren Verweigerung, finanzielle und psychische Belastungen, die Toten, das stets unperfekte Testen und Tracen, die Impfstoffe. Wie viel Raum diese Themen in den letzten 12 Monaten auf der Frontpage der NZZ hatten, zeichne ich in einer Visualisierung nach."
   ]
  },
  {
   "cell_type": "markdown",
   "metadata": {},
   "source": [
    "## Publikation am 25. Februar 2021"
   ]
  },
  {
   "cell_type": "markdown",
   "metadata": {},
   "source": [
    "im Ressort Schweiz der NZZ:\n",
    "\n",
    "www.nzz.ch/ld.xxxxxxxx"
   ]
  },
  {
   "cell_type": "markdown",
   "metadata": {},
   "source": [
    "## Idee"
   ]
  },
  {
   "cell_type": "markdown",
   "metadata": {},
   "source": [
    "Snapshots (auch 'Captures') von www.nzz.ch sind im Internet Archive (https://archive.org/) hinterlegt. Ich baue einen Scraper, der diese Snapshots als .html abspeichert. Mit BeautifulSoup extrahiere ich aus diesen Dokumenten die Titel, Teaser und URL aller Artikel, die zum Zeitpunkt des Captures auf der Frontpage der NZZ publiziert waren. Mit Pandas durchsuche ich die so erstellte Datenbank nach geeigneten Schlagworten.\n",
    "\n",
    "Zum Beispiel können wir mit diesem Datensatz\n",
    "- das Coronajahr analysieren: Wann standen Tests, Impfungen, Lockdown, Kinder & Homeschoooling, Homeoffice, Psyche und Krise im Vordergrund?\n",
    "- die mediale Karriere von Trump nachzeichnen: Wann beherrschte er die News? Und weshalb?\n",
    "- nachschauen, ob die Popularität bestimmter sozialer Medien parallel zu deren Medienpräsenz verläuft (vgl. Hype um Clubhouse Anfang 2021, Snapchat 2015/16 etc pp)"
   ]
  },
  {
   "cell_type": "markdown",
   "metadata": {},
   "source": [
    "# Einschätzung von Aufwand und Ertrag"
   ]
  },
  {
   "cell_type": "markdown",
   "metadata": {},
   "source": [
    "**Programmierung des Scrapers, Datenbereinigung, Analyse:** ca. 3 Arbeitstage\n",
    "\n",
    "Im Netz findet man schnell viele Vorbilder für das Scraping von Inhalten von archive.org, die als Hilfestellung herangezogen werden können.\n",
    "\n",
    "**Visualisierung, Finetuning der Analyse, Texte erstellen:** ca. 2 Arbeitstage\n",
    "\n",
    "Die eigentliche Schwierigkeit besteht darin, die Visualisierung so zu optmieren, dass sie für den Leser gut verständlich ist und das \"Schweizer Coronajahr\" beim Durchscrollen nach-erlebbar macht, Erinnerungen an das besondere Jahr im Zeichen des Coronavirus weckt. Die Kategorien von Suchworten dürfen weder zu eng noch zu grob gefasst werden, sonst gehen womöglich erkenntnisreiche Unterschiede verloren.  \n",
    "\n",
    "**Erwarteter Ertrag:** \n",
    "\n",
    "Ein von einer einzigen, grossen Grafik getragener Beitrag für nzz.ch/schweiz, der vor allem auf mobilen Endgeräten ein unterhaltsames Leseerlebnis bietet. Durch den engen Bezug auf das eigene Erleben der Coronapandemie in der Schweiz wird die Visualisierung beim Leser verschiedenste Emotionen wecken.\n",
    "\n",
    "Der journalistische Impact und die Tiefe des Inhalts sind eher im unteren Drittel anzusiedeln; aus der Datenanalyse ergeben sich ja keine vollkommen neuen Erkenntnisse. Dafür könnte der Beitrag, da für den Austausch auf sozialen Medien geeignet, eine sehr hohe Reichweite erzielen. Die zugrunde liegenden Programme und erstellten Datenbanken können, wie oben skizziert, in leicht abgewandelter Form für zahlreiche andere Fragestellungen genutzt werden. Die Erzählweise in Form einer grossen Datenvisualisierung wird in den Tageszeitungen bisher noch selten genutzt und ist insofern innovativ."
   ]
  },
  {
   "cell_type": "markdown",
   "metadata": {},
   "source": [
    "# Code, Daten und Visualisierung\n",
    "\n",
    "IAScraper.ipynb - Scraper\n",
    "\n",
    "CoronaTrendsSchweiz.ipynb - Datenbereinigung und -analyse, Visualisierung\n",
    "\n",
    "fp-nzz-complete.csv - Die Daten des untersuchten Zeitraums in einem CSV aggregiert\n",
    "\n",
    "xxxxxx.svg - finale Grafiken für Weiterverarbeitung in Illustrator etc. pp."
   ]
  },
  {
   "cell_type": "markdown",
   "metadata": {},
   "source": [
    "# Arbeitsprotokoll\n",
    "\n",
    "\n",
    "Datum | Zeitaufwand | Beschreibung\n",
    "-------- | -------- | :--------\n",
    "29./30.12.2020 | 2h | Idee entwickeln, Scraper für Internet Archive recherchieren\n",
    "01.02.2021 | 6h | Scraper programmieren\n",
    "02.02.2021 | 6h | Daten zusammenführen und bereinigen\n",
    "04.02.2021 | 6h | Analyse & erste Visualisierungen\n",
    "08.-12.02.2021 | 2h | Briefings mit Anja Lemcke (NZZ Visuals), Christina Neuhaus (RL NZZ Schweiz), Barnaby Skinner (RL NZZ Visuals)\n",
    "08.02.2021 | 4h | versch. Bugfixes & Erweiterungen\n",
    "11.02.2021 | 1h | Projektdokumentation anlegen\n",
    "17./18.02.2021 | 6h |finale Grafiken erstellen, Annotationen verfassen\n",
    "24.-25.02.2021 | 2h | Produktion und Veröffentlichung, Social Media"
   ]
  },
  {
   "cell_type": "markdown",
   "metadata": {},
   "source": [
    "Gesamter Aufwand: ca. 35 Arbeitsstunden "
   ]
  },
  {
   "cell_type": "code",
   "execution_count": null,
   "metadata": {},
   "outputs": [],
   "source": []
  }
 ],
 "metadata": {
  "kernelspec": {
   "display_name": "Python 3",
   "language": "python",
   "name": "python3"
  },
  "language_info": {
   "codemirror_mode": {
    "name": "ipython",
    "version": 3
   },
   "file_extension": ".py",
   "mimetype": "text/x-python",
   "name": "python",
   "nbconvert_exporter": "python",
   "pygments_lexer": "ipython3",
   "version": "3.8.3"
  }
 },
 "nbformat": 4,
 "nbformat_minor": 4
}
